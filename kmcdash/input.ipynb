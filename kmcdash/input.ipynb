{
 "cells": [
  {
   "cell_type": "code",
   "execution_count": 1,
   "metadata": {},
   "outputs": [
    {
     "name": "stdout",
     "output_type": "stream",
     "text": [
      "Lattice <class 'kmc.morphology.Lattice'> <class 'type'> ['self', 'num_sites', 'vector', 'disorder', 'composition']\n",
      "Lattice_BHJ <class 'kmc.morphology.Lattice_BHJ'> <class 'type'> ['self', 'n_loops', 'cutoff', 'num_sites', 'vector', 'disorder', 'composition']\n",
      "Bilayer <class 'kmc.morphology.Bilayer'> <class 'type'> ['self', 'axis', 'num_sites', 'vector', 'disorder', 'composition']\n",
      "Saw <class 'kmc.morphology.Saw'> <class 'type'> ['self', 'size_saw', 'width_saw', 'num_sites', 'vector', 'disorder', 'composition']\n"
     ]
    }
   ],
   "source": [
    "import ipywidgets as widgets\n",
    "from IPython.display import display, clear_output\n",
    "import pandas as pd\n",
    "from ipywidgets import fixed, Layout, Button, Box\n",
    "import kmc.variables\n",
    "import inspect\n",
    "import kmc.morphology\n",
    "import kmc.rates\n",
    "\n",
    "def get_classes(modulo,atributo):\n",
    "    morphs = []\n",
    "    for name, value in vars(modulo).items():\n",
    "        if '__' not in name and hasattr(value, atributo):\n",
    "            morphs.append((name,value))\n",
    "    return morphs\n",
    "\n",
    "for name, value in vars(kmc.morphology).items():\n",
    "    if '__' not in name and hasattr(value, 'make'):\n",
    "        print(name,value, type(value), inspect.getfullargspec(value)[0])\n"
   ]
  },
  {
   "cell_type": "code",
   "execution_count": 2,
   "metadata": {},
   "outputs": [
    {
     "data": {
      "application/vnd.jupyter.widget-view+json": {
       "model_id": "7f90dca8e216490bbeb4801f115af362",
       "version_major": 2,
       "version_minor": 0
      },
      "text/plain": [
       "HBox(children=(Checkbox(value=False, description='Animation_Mode'), Checkbox(value=False, description='Save_An…"
      ]
     },
     "metadata": {},
     "output_type": "display_data"
    },
    {
     "data": {
      "application/vnd.jupyter.widget-view+json": {
       "model_id": "3b045bf58c324bda939666812b6ca967",
       "version_major": 2,
       "version_minor": 0
      },
      "text/plain": [
       "HBox(children=(Text(value='teste', description='Identifier', placeholder='Type something'), Text(value='gif', …"
      ]
     },
     "metadata": {},
     "output_type": "display_data"
    },
    {
     "data": {
      "application/vnd.jupyter.widget-view+json": {
       "model_id": "5abcec39d9bf4911b92f9b7cefe9bd87",
       "version_major": 2,
       "version_minor": 0
      },
      "text/plain": [
       "Output()"
      ]
     },
     "metadata": {},
     "output_type": "display_data"
    },
    {
     "data": {
      "application/vnd.jupyter.widget-view+json": {
       "model_id": "33f6ac10b913489c9b10251f0219601b",
       "version_major": 2,
       "version_minor": 0
      },
      "text/plain": [
       "Dropdown(description='Morphology:', options=(('Lattice', <class 'kmc.morphology.Lattice'>), ('Lattice_BHJ', <c…"
      ]
     },
     "metadata": {},
     "output_type": "display_data"
    },
    {
     "data": {
      "application/vnd.jupyter.widget-view+json": {
       "model_id": "d5be3d8eed8a43b39095531b167002c6",
       "version_major": 2,
       "version_minor": 0
      },
      "text/plain": [
       "Output()"
      ]
     },
     "metadata": {},
     "output_type": "display_data"
    },
    {
     "data": {
      "application/vnd.jupyter.widget-view+json": {
       "model_id": "36a552d58e084c51863aa05f9bb2a26a",
       "version_major": 2,
       "version_minor": 0
      },
      "text/plain": [
       "Output()"
      ]
     },
     "metadata": {},
     "output_type": "display_data"
    }
   ],
   "source": [
    "def basic_widget(**kwargs):\n",
    "    global basic\n",
    "    basic = '###BASIC PARAMETERS###########################################################\\n'\n",
    "    for keys in kwargs.keys():\n",
    "        basic += f'{keys} = {kwargs[keys]}\\n'\n",
    "    basic +='##############################################################################'    \n",
    "    #print(ss)\n",
    "    #return ss    \n",
    "\n",
    "def morph_write(**kwargs):\n",
    "    global text\n",
    "    value = kwargs['morphology']\n",
    "    text = '###MORPHOLOGY#################################################################\\n'\n",
    "    text += f\"morphology ={value.__name__}(\"\n",
    "    args = [kwargs[i] for i in kwargs.keys() if i != 'morphology']\n",
    "    text += ','.join(args)\n",
    "    text += ')\\n'\n",
    "    text += '#############################################################################'\n",
    "    global composition\n",
    "    composition = kwargs['composition']\n",
    "    #print(text)\n",
    "    #return text\n",
    "\n",
    "def morph_widget(**kwargs):\n",
    "    WIDS, kw = [], {}\n",
    "    value = kwargs['morphology']\n",
    "    kw['morphology'] = fixed(value)\n",
    "    print(inspect.getdoc(value))\n",
    "    for arg in inspect.getfullargspec(value)[0]:\n",
    "        if arg != 'self':\n",
    "            wid = widgets.Text(\n",
    "            value='',\n",
    "            placeholder='Type something',\n",
    "            description=arg.title(),\n",
    "            disabled=False\n",
    "            ) \n",
    "            WIDS.append(wid)\n",
    "            kw[arg] = wid      \n",
    "    box1 = widgets.HBox(WIDS)\n",
    "    display(box1)\n",
    "    write_wid = widgets.interactive_output(morph_write,kw)\n",
    "    display(write_wid)\n",
    "    \n",
    "\n",
    "BOOLS, STRS = [], []\n",
    "kw = {}\n",
    "\n",
    "for name, value in vars(kmc.variables).items():\n",
    "    if '__' not in name:\n",
    "        if isinstance(value, bool):\n",
    "            wid = widgets.Checkbox(\n",
    "            value=value,\n",
    "            description=name.title(),\n",
    "            disabled=False\n",
    "            )\n",
    "            BOOLS.append(wid)\n",
    "            kw[name] = wid\n",
    "        elif isinstance(value, str):\n",
    "            wid = widgets.Text(\n",
    "            value=value,\n",
    "            placeholder='Type something',\n",
    "            description=name.title(),\n",
    "            disabled=False\n",
    "            )\n",
    "            STRS.append(wid)\n",
    "            kw[name] = wid\n",
    "        elif isinstance(value, float):\n",
    "            wid = widgets.FloatText(\n",
    "            value=value,\n",
    "            description=name.title(),\n",
    "            disabled=False\n",
    "            )    \n",
    "            STRS.append(wid)\n",
    "            kw[name] = wid\n",
    "        elif isinstance(value, int):\n",
    "            wid = widgets.IntText(\n",
    "            value=value,\n",
    "            description=name.title(),\n",
    "            disabled=False\n",
    "            )    \n",
    "            STRS.append(wid)\n",
    "            kw[name] = wid    \n",
    "\n",
    "\n",
    "morphs = get_classes(kmc.morphology,'make')\n",
    "\n",
    "Morph = widgets.Dropdown(\n",
    "options=morphs,\n",
    "value=morphs[0][1],\n",
    "# rows=10,\n",
    "description='Morphology:',\n",
    "disabled=False\n",
    ")\n",
    "\n",
    "box1   = widgets.HBox(BOOLS) \n",
    "box2   = widgets.HBox(STRS) \n",
    "display(box1,box2)\n",
    "wid_basic = widgets.interactive_output(basic_widget,kw)\n",
    "display(wid_basic) \n",
    "display(Morph)\n",
    "wid_morph = widgets.interactive_output(morph_widget,{'morphology':Morph})\n",
    "display(wid_morph)\n",
    "\n",
    "\n",
    "def energy_write(**kwargs):\n",
    "    global text\n",
    "    text += '\\n#ENERGIES\\n#Gaussian distribuitions\\n'\n",
    "    for key in kwargs.keys():\n",
    "        text += f'morphology.Gaussian_energy({kwargs[key]})\\n'    \n",
    "\n",
    "\n",
    "def energies():\n",
    "    WIDS,b2 = [], []\n",
    "    kw = {}\n",
    "    num_mats = len(composition.split(','))\n",
    "    for level in ['s1', 't1', 'homo', 'lumo']:\n",
    "        t    = [str(i)+':(mean,std)' for i in range(num_mats)]\n",
    "        t    = ','.join(t)\n",
    "        t    = '{'+t+'}'\n",
    "        wid = widgets.Text(\n",
    "        value=t,\n",
    "        description=level,\n",
    "        disabled=False\n",
    "        )            \n",
    "        WIDS.append(wid)\n",
    "        kw[level] = wid\n",
    "        box1   = widgets.HBox(WIDS)\n",
    "        b2.append(box1)\n",
    "        WIDS = []\n",
    "    box1   = widgets.VBox(b2)    \n",
    "    display(box1)        \n",
    "    write_wid = widgets.interactive_output(energy_write,kw)\n",
    "    display(write_wid)\n",
    "\n",
    "\n"
   ]
  },
  {
   "cell_type": "code",
   "execution_count": 7,
   "metadata": {},
   "outputs": [
    {
     "data": {
      "application/vnd.jupyter.widget-view+json": {
       "model_id": "69aaf0988e8c47d7826839067675f92e",
       "version_major": 2,
       "version_minor": 0
      },
      "text/plain": [
       "VBox(children=(HBox(children=(Text(value='{0:(mean,std),1:(mean,std)}', description='s1'),)), HBox(children=(T…"
      ]
     },
     "metadata": {},
     "output_type": "display_data"
    },
    {
     "data": {
      "application/vnd.jupyter.widget-view+json": {
       "model_id": "1577d1fa209f4221ae2566abfd1ee45d",
       "version_major": 2,
       "version_minor": 0
      },
      "text/plain": [
       "Output()"
      ]
     },
     "metadata": {},
     "output_type": "display_data"
    },
    {
     "name": "stdout",
     "output_type": "stream",
     "text": [
      "###BASIC PARAMETERS###########################################################\n",
      "identifier = teste\n",
      "animation_mode = False\n",
      "save_animation = False\n",
      "animation_exten = gif\n",
      "time_limit = 10000\n",
      "pause = False\n",
      "marker_type = 1\n",
      "rotate = False\n",
      "frozen_lattice = False\n",
      "bimolec = False\n",
      "periodic = False\n",
      "n_proc = 1\n",
      "rounds = 1\n",
      "##############################################################################\n",
      "###MORPHOLOGY#################################################################\n",
      "morphology =Lattice(1000,[5,5,0],[0,0,0],[0.5,0.5])\n",
      "#############################################################################\n",
      "#ENERGIES\n",
      "#Gaussian distribuitions\n",
      "morphology.Gaussian_energy({0:(mean,std),1:(mean,std)})\n",
      "morphology.Gaussian_energy({0:(mean,std),1:(mean,std)})\n",
      "morphology.Gaussian_energy({0:(mean,std),1:(mean,std)})\n",
      "morphology.Gaussian_energy({0:(mean,std),1:(mean,std)})\n",
      "\n"
     ]
    }
   ],
   "source": [
    "energies()\n",
    "print(basic)\n",
    "print(text)"
   ]
  },
  {
   "cell_type": "code",
   "execution_count": 4,
   "metadata": {},
   "outputs": [
    {
     "data": {
      "application/vnd.jupyter.widget-view+json": {
       "model_id": "e784817e0c5b43b588e3e7376b1ac5b9",
       "version_major": 2,
       "version_minor": 0
      },
      "text/plain": [
       "Dropdown(description='Processes:', options=(('Forster', <class 'kmc.rates.Forster'>), ('ForsterT', <class 'kmc…"
      ]
     },
     "metadata": {},
     "output_type": "display_data"
    }
   ],
   "source": [
    "\n",
    "rates = get_classes(kmc.rates,'action')\n",
    "Rates = widgets.Dropdown(\n",
    "options=rates,\n",
    "value=rates[0][1],\n",
    "# rows=10,\n",
    "description='Processes:',\n",
    "disabled=False\n",
    ")\n",
    "\n",
    "display(Rates)"
   ]
  },
  {
   "cell_type": "code",
   "execution_count": 5,
   "metadata": {},
   "outputs": [
    {
     "data": {
      "application/vnd.jupyter.widget-view+json": {
       "model_id": "7f3fbab8c06f48c6bcadc1cc81e38054",
       "version_major": 2,
       "version_minor": 0
      },
      "text/plain": [
       "Dropdown(description='Morphology:', options=(('Create_Particles', <class 'kmc.morphology.Create_Particles'>), …"
      ]
     },
     "metadata": {},
     "output_type": "display_data"
    }
   ],
   "source": [
    "rates = get_classes(kmc.morphology,'assign_to_system')\n",
    "rates = [i for i in rates if i not in morphs]\n",
    "Rates = widgets.Dropdown(\n",
    "options=rates,\n",
    "value=rates[0][1],\n",
    "# rows=10,\n",
    "description='Morphology:',\n",
    "disabled=False\n",
    ")\n",
    "\n",
    "display(Rates)"
   ]
  },
  {
   "cell_type": "code",
   "execution_count": 6,
   "metadata": {},
   "outputs": [
    {
     "data": {
      "text/plain": [
       "FullArgSpec(args=['self', 'kind', 'num', 'method'], varargs=None, varkw='kwargs', defaults=None, kwonlyargs=[], kwonlydefaults=None, annotations={})"
      ]
     },
     "execution_count": 6,
     "metadata": {},
     "output_type": "execute_result"
    }
   ],
   "source": [
    "a = Rates.value\n",
    "inspect.getfullargspec(a)"
   ]
  }
 ],
 "metadata": {
  "kernelspec": {
   "display_name": "Python 3.10.7 64-bit",
   "language": "python",
   "name": "python3"
  },
  "language_info": {
   "codemirror_mode": {
    "name": "ipython",
    "version": 3
   },
   "file_extension": ".py",
   "mimetype": "text/x-python",
   "name": "python",
   "nbconvert_exporter": "python",
   "pygments_lexer": "ipython3",
   "version": "3.10.7 (tags/v3.10.7:6cc6b13, Sep  5 2022, 14:08:36) [MSC v.1933 64 bit (AMD64)]"
  },
  "orig_nbformat": 4,
  "vscode": {
   "interpreter": {
    "hash": "26de051ba29f2982a8de78e945f0abaf191376122a1563185a90213a26c5da77"
   }
  }
 },
 "nbformat": 4,
 "nbformat_minor": 2
}
