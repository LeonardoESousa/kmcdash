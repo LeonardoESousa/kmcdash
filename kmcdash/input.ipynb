{
 "cells": [
  {
   "cell_type": "code",
   "execution_count": 35,
   "metadata": {},
   "outputs": [
    {
     "name": "stdout",
     "output_type": "stream",
     "text": [
      "Lattice <class 'kmc.morphology.Lattice'> <class 'type'> ['self', 'num_sites', 'vector', 'disorder', 'composition']\n",
      "Lattice_BHJ <class 'kmc.morphology.Lattice_BHJ'> <class 'type'> ['self', 'n_loops', 'cutoff', 'num_sites', 'vector', 'disorder', 'composition']\n",
      "Bilayer <class 'kmc.morphology.Bilayer'> <class 'type'> ['self', 'axis', 'num_sites', 'vector', 'disorder', 'composition']\n",
      "Saw <class 'kmc.morphology.Saw'> <class 'type'> ['self', 'size_saw', 'width_saw', 'num_sites', 'vector', 'disorder', 'composition']\n"
     ]
    }
   ],
   "source": [
    "import ipywidgets as widgets\n",
    "from IPython.display import display, clear_output\n",
    "import pandas as pd\n",
    "from ipywidgets import fixed, Layout, Button, Box\n",
    "import kmc.variables\n",
    "import inspect\n",
    "import kmc.morphology\n",
    "\n",
    "\n",
    "for name, value in vars(kmc.morphology).items():\n",
    "    if '__' not in name and hasattr(value, 'make'):\n",
    "        print(name,value, type(value), inspect.getfullargspec(value)[0])\n",
    "\n",
    "\n",
    "     "
   ]
  },
  {
   "cell_type": "code",
   "execution_count": 46,
   "metadata": {},
   "outputs": [
    {
     "data": {
      "application/vnd.jupyter.widget-view+json": {
       "model_id": "bc1b68fa75854575b69f7d2b6c0b1727",
       "version_major": 2,
       "version_minor": 0
      },
      "text/plain": [
       "HBox(children=(Checkbox(value=False, description='Animation_Mode'), Checkbox(value=False, description='Save_An…"
      ]
     },
     "metadata": {},
     "output_type": "display_data"
    },
    {
     "data": {
      "application/vnd.jupyter.widget-view+json": {
       "model_id": "d9e33bf898454539bc5e35f6089b8793",
       "version_major": 2,
       "version_minor": 0
      },
      "text/plain": [
       "HBox(children=(Text(value='teste', description='Identifier', placeholder='Type something'), Text(value='gif', …"
      ]
     },
     "metadata": {},
     "output_type": "display_data"
    },
    {
     "data": {
      "application/vnd.jupyter.widget-view+json": {
       "model_id": "f5c3693a17bb4003868a1fb1203e81e5",
       "version_major": 2,
       "version_minor": 0
      },
      "text/plain": [
       "Dropdown(description='Morphology:', options=(('Lattice', <class 'kmc.morphology.Lattice'>), ('Lattice_BHJ', <c…"
      ]
     },
     "metadata": {},
     "output_type": "display_data"
    },
    {
     "data": {
      "application/vnd.jupyter.widget-view+json": {
       "model_id": "6725aad73abc4768ab02c91eb24ff972",
       "version_major": 2,
       "version_minor": 0
      },
      "text/plain": [
       "Output()"
      ]
     },
     "metadata": {},
     "output_type": "display_data"
    },
    {
     "data": {
      "application/vnd.jupyter.widget-view+json": {
       "model_id": "544248d5e941468c8a84ecd50cf5dcfa",
       "version_major": 2,
       "version_minor": 0
      },
      "text/plain": [
       "Output()"
      ]
     },
     "metadata": {},
     "output_type": "display_data"
    }
   ],
   "source": [
    "def basic_widget(**kwargs):\n",
    "    for keys in kwargs.keys():\n",
    "        print(f'{keys} = {kwargs[keys]}')\n",
    "\n",
    "def morph_widget(**kwargs):\n",
    "    WIDS = []\n",
    "    value = kwargs['morphology']\n",
    "    for arg in inspect.getfullargspec(value)[0]:\n",
    "        if arg != 'self':\n",
    "            wid = widgets.Text(\n",
    "            value='',\n",
    "            placeholder='Type something',\n",
    "            description=arg.title(),\n",
    "            disabled=False\n",
    "            ) \n",
    "            WIDS.append(wid)      \n",
    "    box1 = widgets.HBox(WIDS)\n",
    "    display(box1)\n",
    "\n",
    "\n",
    "BOOLS, STRS = [], []\n",
    "kw = {}\n",
    "\n",
    "for name, value in vars(kmc.variables).items():\n",
    "    if '__' not in name:\n",
    "        if isinstance(value, bool):\n",
    "            wid = widgets.Checkbox(\n",
    "            value=value,\n",
    "            description=name.title(),\n",
    "            disabled=False\n",
    "            )\n",
    "            BOOLS.append(wid)\n",
    "            kw[name] = wid\n",
    "        elif isinstance(value, str):\n",
    "            wid = widgets.Text(\n",
    "            value=value,\n",
    "            placeholder='Type something',\n",
    "            description=name.title(),\n",
    "            disabled=False\n",
    "            )\n",
    "            STRS.append(wid)\n",
    "            kw[name] = wid\n",
    "        elif isinstance(value, float):\n",
    "            wid = widgets.FloatText(\n",
    "            value=value,\n",
    "            description=name.title(),\n",
    "            disabled=False\n",
    "            )    \n",
    "            STRS.append(wid)\n",
    "            kw[name] = wid\n",
    "        elif isinstance(value, int):\n",
    "            wid = widgets.IntText(\n",
    "            value=value,\n",
    "            description=name.title(),\n",
    "            disabled=False\n",
    "            )    \n",
    "            STRS.append(wid)\n",
    "            kw[name] = wid    \n",
    "\n",
    "\n",
    "box1   = widgets.HBox(BOOLS) \n",
    "box2   = widgets.HBox(STRS) \n",
    "display(box1,box2)\n",
    "        \n",
    "\n",
    "morphs = []\n",
    "for name, value in vars(kmc.morphology).items():\n",
    "    if '__' not in name and hasattr(value, 'make'):\n",
    "        morphs.append((name,value))\n",
    "\n",
    "Morph = widgets.Dropdown(\n",
    "options=morphs,\n",
    "value=morphs[0][1],\n",
    "# rows=10,\n",
    "description='Morphology:',\n",
    "disabled=False\n",
    ")\n",
    "\n",
    "display(Morph)\n",
    "\n",
    "\n",
    "wid_basic = widgets.interactive_output(basic_widget,kw)  \n",
    "wid_morph = widgets.interactive_output(morph_widget,{'morphology':Morph})\n",
    "display(wid_basic,wid_morph)\n",
    "\n"
   ]
  }
 ],
 "metadata": {
  "kernelspec": {
   "display_name": "Python 3.10.7 64-bit",
   "language": "python",
   "name": "python3"
  },
  "language_info": {
   "codemirror_mode": {
    "name": "ipython",
    "version": 3
   },
   "file_extension": ".py",
   "mimetype": "text/x-python",
   "name": "python",
   "nbconvert_exporter": "python",
   "pygments_lexer": "ipython3",
   "version": "3.10.7"
  },
  "orig_nbformat": 4,
  "vscode": {
   "interpreter": {
    "hash": "26de051ba29f2982a8de78e945f0abaf191376122a1563185a90213a26c5da77"
   }
  }
 },
 "nbformat": 4,
 "nbformat_minor": 2
}
