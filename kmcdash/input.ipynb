{
 "cells": [
  {
   "cell_type": "code",
   "execution_count": 90,
   "metadata": {},
   "outputs": [
    {
     "name": "stdout",
     "output_type": "stream",
     "text": [
      "Lattice <class 'kmc.morphology.Lattice'> <class 'type'> ['self', 'num_sites', 'vector', 'disorder', 'composition']\n",
      "Lattice_BHJ <class 'kmc.morphology.Lattice_BHJ'> <class 'type'> ['self', 'n_loops', 'cutoff', 'num_sites', 'vector', 'disorder', 'composition']\n",
      "Bilayer <class 'kmc.morphology.Bilayer'> <class 'type'> ['self', 'axis', 'num_sites', 'vector', 'disorder', 'composition']\n",
      "Saw <class 'kmc.morphology.Saw'> <class 'type'> ['self', 'size_saw', 'width_saw', 'num_sites', 'vector', 'disorder', 'composition']\n"
     ]
    }
   ],
   "source": [
    "import ipywidgets as widgets\n",
    "from IPython.display import display, clear_output\n",
    "import pandas as pd\n",
    "from ipywidgets import fixed, Layout, Button, Box\n",
    "import kmc.variables\n",
    "import inspect\n",
    "import kmc.morphology\n",
    "import kmc.rates\n",
    "\n",
    "def get_classes(modulo,atributo):\n",
    "    morphs = []\n",
    "    for name, value in vars(modulo).items():\n",
    "        if '__' not in name and hasattr(value, atributo):\n",
    "            morphs.append((name,value))\n",
    "    return morphs\n",
    "\n",
    "for name, value in vars(kmc.morphology).items():\n",
    "    if '__' not in name and hasattr(value, 'make'):\n",
    "        print(name,value, type(value), inspect.getfullargspec(value)[0])\n"
   ]
  },
  {
   "cell_type": "code",
   "execution_count": 91,
   "metadata": {},
   "outputs": [
    {
     "data": {
      "application/vnd.jupyter.widget-view+json": {
       "model_id": "0acea2a263d14da5813f64a55dfa89e8",
       "version_major": 2,
       "version_minor": 0
      },
      "text/plain": [
       "HBox(children=(Checkbox(value=False, description='Animation_Mode'), Checkbox(value=False, description='Save_An…"
      ]
     },
     "metadata": {},
     "output_type": "display_data"
    },
    {
     "data": {
      "application/vnd.jupyter.widget-view+json": {
       "model_id": "0ef437dd1f464b9e9f261e659783378b",
       "version_major": 2,
       "version_minor": 0
      },
      "text/plain": [
       "HBox(children=(Text(value='teste', description='Identifier', placeholder='Type something'), Text(value='gif', …"
      ]
     },
     "metadata": {},
     "output_type": "display_data"
    },
    {
     "data": {
      "application/vnd.jupyter.widget-view+json": {
       "model_id": "2c68dfa7282c4fbbb2e29febe75ebc37",
       "version_major": 2,
       "version_minor": 0
      },
      "text/plain": [
       "Output()"
      ]
     },
     "metadata": {},
     "output_type": "display_data"
    },
    {
     "data": {
      "application/vnd.jupyter.widget-view+json": {
       "model_id": "d4da2fac15d64465b01cd4f3113338e8",
       "version_major": 2,
       "version_minor": 0
      },
      "text/plain": [
       "Dropdown(description='Morphology:', options=(('Lattice', <class 'kmc.morphology.Lattice'>), ('Lattice_BHJ', <c…"
      ]
     },
     "metadata": {},
     "output_type": "display_data"
    },
    {
     "data": {
      "application/vnd.jupyter.widget-view+json": {
       "model_id": "737efdb99eeb42aa94b9a420e815b482",
       "version_major": 2,
       "version_minor": 0
      },
      "text/plain": [
       "Output()"
      ]
     },
     "metadata": {},
     "output_type": "display_data"
    },
    {
     "data": {
      "application/vnd.jupyter.widget-view+json": {
       "model_id": "77a0448406294f43ac8cc49b2ac323b7",
       "version_major": 2,
       "version_minor": 0
      },
      "text/plain": [
       "Output()"
      ]
     },
     "metadata": {},
     "output_type": "display_data"
    }
   ],
   "source": [
    "def basic_widget(**kwargs):\n",
    "    global basic\n",
    "    basic = '###BASIC PARAMETERS###########################################################\\n'\n",
    "    for keys in kwargs.keys():\n",
    "        basic += f'{keys} = {kwargs[keys]}\\n'\n",
    "    basic +='##############################################################################'    \n",
    "    #print(ss)\n",
    "    #return ss    \n",
    "\n",
    "def morph_write(**kwargs):\n",
    "    global text\n",
    "    value = kwargs['morphology']\n",
    "    text = '###MORPHOLOGY#################################################################\\n'\n",
    "    text += f\"morphology ={value.__name__}(\"\n",
    "    args = [kwargs[i] for i in kwargs.keys() if i != 'morphology']\n",
    "    text += ','.join(args)\n",
    "    text += ')\\n'\n",
    "    text += '#############################################################################'\n",
    "    #print(text)\n",
    "    #return text\n",
    "\n",
    "def morph_widget(**kwargs):\n",
    "    WIDS, kw = [], {}\n",
    "    value = kwargs['morphology']\n",
    "    kw['morphology'] = fixed(value)\n",
    "    print(inspect.getdoc(value))\n",
    "    for arg in inspect.getfullargspec(value)[0]:\n",
    "        if arg != 'self':\n",
    "            wid = widgets.Text(\n",
    "            value='',\n",
    "            placeholder='Type something',\n",
    "            description=arg.title(),\n",
    "            disabled=False\n",
    "            ) \n",
    "            WIDS.append(wid)\n",
    "            kw[arg] = wid      \n",
    "    box1 = widgets.HBox(WIDS)\n",
    "    display(box1)\n",
    "    write_wid = widgets.interactive_output(morph_write,kw)\n",
    "    display(write_wid)\n",
    "    \n",
    "\n",
    "BOOLS, STRS = [], []\n",
    "kw = {}\n",
    "\n",
    "for name, value in vars(kmc.variables).items():\n",
    "    if '__' not in name:\n",
    "        if isinstance(value, bool):\n",
    "            wid = widgets.Checkbox(\n",
    "            value=value,\n",
    "            description=name.title(),\n",
    "            disabled=False\n",
    "            )\n",
    "            BOOLS.append(wid)\n",
    "            kw[name] = wid\n",
    "        elif isinstance(value, str):\n",
    "            wid = widgets.Text(\n",
    "            value=value,\n",
    "            placeholder='Type something',\n",
    "            description=name.title(),\n",
    "            disabled=False\n",
    "            )\n",
    "            STRS.append(wid)\n",
    "            kw[name] = wid\n",
    "        elif isinstance(value, float):\n",
    "            wid = widgets.FloatText(\n",
    "            value=value,\n",
    "            description=name.title(),\n",
    "            disabled=False\n",
    "            )    \n",
    "            STRS.append(wid)\n",
    "            kw[name] = wid\n",
    "        elif isinstance(value, int):\n",
    "            wid = widgets.IntText(\n",
    "            value=value,\n",
    "            description=name.title(),\n",
    "            disabled=False\n",
    "            )    \n",
    "            STRS.append(wid)\n",
    "            kw[name] = wid    \n",
    "\n",
    "\n",
    "morphs = get_classes(kmc.morphology,'make')\n",
    "\n",
    "Morph = widgets.Dropdown(\n",
    "options=morphs,\n",
    "value=morphs[0][1],\n",
    "# rows=10,\n",
    "description='Morphology:',\n",
    "disabled=False\n",
    ")\n",
    "\n",
    "box1   = widgets.HBox(BOOLS) \n",
    "box2   = widgets.HBox(STRS) \n",
    "display(box1,box2)\n",
    "wid_basic = widgets.interactive_output(basic_widget,kw)\n",
    "display(wid_basic) \n",
    "display(Morph)\n",
    "wid_morph = widgets.interactive_output(morph_widget,{'morphology':Morph})\n",
    "display(wid_morph)\n",
    "\n"
   ]
  },
  {
   "cell_type": "code",
   "execution_count": 92,
   "metadata": {},
   "outputs": [
    {
     "name": "stdout",
     "output_type": "stream",
     "text": [
      "###BASIC PARAMETERS###########################################################\n",
      "identifier = teste\n",
      "animation_mode = False\n",
      "save_animation = False\n",
      "animation_exten = gif\n",
      "time_limit = 10000\n",
      "pause = False\n",
      "marker_type = 1\n",
      "rotate = False\n",
      "frozen_lattice = False\n",
      "bimolec = False\n",
      "periodic = False\n",
      "n_proc = 1\n",
      "rounds = 1\n",
      "##############################################################################\n",
      "###MORPHOLOGY#################################################################\n",
      "morphology =Lattice(,,,)\n",
      "#############################################################################\n"
     ]
    }
   ],
   "source": [
    "print(basic)\n",
    "print(text)\n"
   ]
  },
  {
   "cell_type": "code",
   "execution_count": 93,
   "metadata": {},
   "outputs": [
    {
     "data": {
      "application/vnd.jupyter.widget-view+json": {
       "model_id": "e752bdbc130d478fad2ad9ab516848d2",
       "version_major": 2,
       "version_minor": 0
      },
      "text/plain": [
       "Dropdown(description='Morphology:', options=(('Forster', <class 'kmc.rates.Forster'>), ('ForsterT', <class 'km…"
      ]
     },
     "metadata": {},
     "output_type": "display_data"
    }
   ],
   "source": [
    "\n",
    "rates = get_classes(kmc.rates,'action')\n",
    "Rates = widgets.Dropdown(\n",
    "options=rates,\n",
    "value=rates[0][1],\n",
    "# rows=10,\n",
    "description='Morphology:',\n",
    "disabled=False\n",
    ")\n",
    "\n",
    "display(Rates)"
   ]
  },
  {
   "cell_type": "code",
   "execution_count": 100,
   "metadata": {},
   "outputs": [
    {
     "data": {
      "application/vnd.jupyter.widget-view+json": {
       "model_id": "430d92c968e94cec81107d9cc50db192",
       "version_major": 2,
       "version_minor": 0
      },
      "text/plain": [
       "Dropdown(description='Morphology:', options=(('Create_Particles', <class 'kmc.morphology.Create_Particles'>), …"
      ]
     },
     "metadata": {},
     "output_type": "display_data"
    }
   ],
   "source": [
    "rates = get_classes(kmc.morphology,'assign_to_system')\n",
    "rates = [i for i in rates if i not in morphs]\n",
    "Rates = widgets.Dropdown(\n",
    "options=rates,\n",
    "value=rates[0][1],\n",
    "# rows=10,\n",
    "description='Morphology:',\n",
    "disabled=False\n",
    ")\n",
    "\n",
    "display(Rates)"
   ]
  },
  {
   "cell_type": "code",
   "execution_count": 98,
   "metadata": {},
   "outputs": [
    {
     "data": {
      "text/plain": [
       "FullArgSpec(args=['self'], varargs=None, varkw='kwargs', defaults=None, kwonlyargs=[], kwonlydefaults=None, annotations={})"
      ]
     },
     "execution_count": 98,
     "metadata": {},
     "output_type": "execute_result"
    }
   ],
   "source": [
    "a = Rates.value\n",
    "inspect.getfullargspec(a)"
   ]
  }
 ],
 "metadata": {
  "kernelspec": {
   "display_name": "Python 3.10.7 64-bit",
   "language": "python",
   "name": "python3"
  },
  "language_info": {
   "codemirror_mode": {
    "name": "ipython",
    "version": 3
   },
   "file_extension": ".py",
   "mimetype": "text/x-python",
   "name": "python",
   "nbconvert_exporter": "python",
   "pygments_lexer": "ipython3",
   "version": "3.10.7"
  },
  "orig_nbformat": 4,
  "vscode": {
   "interpreter": {
    "hash": "26de051ba29f2982a8de78e945f0abaf191376122a1563185a90213a26c5da77"
   }
  }
 },
 "nbformat": 4,
 "nbformat_minor": 2
}
